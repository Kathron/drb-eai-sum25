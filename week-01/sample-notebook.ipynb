{
 "cells": [
  {
   "cell_type": "markdown",
   "id": "6ae5f5cd",
   "metadata": {},
   "source": [
    "## Learn markdown, it's fun!!\n",
    "* Reference study material [here](https://www.markdownguide.org/basic-syntax/)"
   ]
  },
  {
   "cell_type": "code",
   "execution_count": null,
   "id": "8483f564",
   "metadata": {},
   "outputs": [],
   "source": [
    "import time"
   ]
  },
  {
   "cell_type": "markdown",
   "id": "12701244",
   "metadata": {},
   "source": []
  }
 ],
 "metadata": {
  "kernelspec": {
   "display_name": ".venv",
   "language": "python",
   "name": "python3"
  },
  "language_info": {
   "name": "python",
   "version": "3.10.15"
  }
 },
 "nbformat": 4,
 "nbformat_minor": 5
}
