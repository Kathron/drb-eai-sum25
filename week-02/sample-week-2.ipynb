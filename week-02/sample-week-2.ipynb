{
 "cells": [
  {
   "cell_type": "markdown",
   "id": "8b7c4036",
   "metadata": {},
   "source": [
    "## Tasks"
   ]
  },
  {
   "cell_type": "markdown",
   "id": "91f55f29",
   "metadata": {},
   "source": [
    "1. Load the the dataset located at `dataset/student-por.csv` as a `pandas` dataframe."
   ]
  },
  {
   "cell_type": "code",
   "execution_count": null,
   "id": "cf6f69cf",
   "metadata": {
    "vscode": {
     "languageId": "plaintext"
    }
   },
   "outputs": [],
   "source": []
  },
  {
   "cell_type": "markdown",
   "id": "b3700a6d",
   "metadata": {},
   "source": [
    "2. Use `aif360.datasets.StandardDataset` class to create the aif360 dataset representing the `student-por.csv` data"
   ]
  },
  {
   "cell_type": "code",
   "execution_count": null,
   "id": "458b3ff9",
   "metadata": {
    "vscode": {
     "languageId": "plaintext"
    }
   },
   "outputs": [],
   "source": []
  },
  {
   "cell_type": "markdown",
   "id": "822d3cb7",
   "metadata": {},
   "source": [
    "3. Do some fairness assessments on the dataset"
   ]
  },
  {
   "cell_type": "code",
   "execution_count": null,
   "id": "bf3dd767",
   "metadata": {
    "vscode": {
     "languageId": "plaintext"
    }
   },
   "outputs": [],
   "source": []
  },
  {
   "cell_type": "markdown",
   "id": "4c02fb2f",
   "metadata": {},
   "source": [
    "3. "
   ]
  }
 ],
 "metadata": {
  "language_info": {
   "name": "python"
  }
 },
 "nbformat": 4,
 "nbformat_minor": 5
}
